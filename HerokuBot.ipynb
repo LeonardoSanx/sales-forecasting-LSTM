{
 "cells": [
  {
   "cell_type": "code",
   "execution_count": 95,
   "id": "eligible-richardson",
   "metadata": {},
   "outputs": [],
   "source": [
    "import os, telebot\n",
    "from telegram import Update, ForceReply, Bot\n",
    "from telegram.ext import Updater, CommandHandler, MessageHandler, Filters, CallbackContext\n",
    "import requests\n",
    "\n",
    "import pandas as pd\n",
    "import matplotlib.pyplot as plt\n",
    "\n",
    "import pygal\n",
    "from pygal.style import DefaultStyle # PB"
   ]
  },
  {
   "cell_type": "code",
   "execution_count": 126,
   "id": "honest-translation",
   "metadata": {},
   "outputs": [
    {
     "data": {
      "text/plain": [
       "'Shops_forecastBot'"
      ]
     },
     "execution_count": 126,
     "metadata": {},
     "output_type": "execute_result"
    }
   ],
   "source": [
    "API_KEY = '1845664289:AAH2ciPcxXuW08LuHXk8-q4Yrlb6kPQObX8'\n",
    "bot = telebot.TeleBot(API_KEY)\n",
    "'Shops_forecastBot'"
   ]
  },
  {
   "cell_type": "code",
   "execution_count": 127,
   "id": "liquid-zimbabwe",
   "metadata": {},
   "outputs": [],
   "source": [
    "predictions = pd.read_csv('predictions.csv',index_col='date')"
   ]
  },
  {
   "cell_type": "code",
   "execution_count": 128,
   "id": "miniature-array",
   "metadata": {},
   "outputs": [],
   "source": [
    "shop_ids_list = [str(x) for x in range(60)]\n",
    "\n",
    "@bot.message_handler(commands=shop_ids_list)\n",
    "def shops(message):  \n",
    "    file_path = 'graphs//{}.png'\n",
    "    #try:\n",
    "    shop_id = int(message.text[1:])\n",
    "    total = predictions.iloc[:,shop_id].sum()\n",
    "    \n",
    "    bot.send_message(message.chat.id, \"Previsão de {} itens vendidos para os próximos 30 dias.\".format(total))\n",
    "    bot.send_photo(message.chat.id, (open(file_path.format(shop_id),'rb') ), )\n",
    "    #except:\n",
    "        #bot.send_message(message.chat.id, \"Foi nao\")\n",
    "\n"
   ]
  },
  {
   "cell_type": "code",
   "execution_count": null,
   "id": "played-highway",
   "metadata": {
    "scrolled": true
   },
   "outputs": [],
   "source": [
    "bot.polling()"
   ]
  },
  {
   "cell_type": "code",
   "execution_count": null,
   "id": "genuine-basketball",
   "metadata": {},
   "outputs": [],
   "source": []
  },
  {
   "cell_type": "code",
   "execution_count": null,
   "id": "going-junior",
   "metadata": {},
   "outputs": [],
   "source": []
  },
  {
   "cell_type": "code",
   "execution_count": null,
   "id": "qualified-receiver",
   "metadata": {},
   "outputs": [],
   "source": []
  },
  {
   "cell_type": "code",
   "execution_count": null,
   "id": "described-level",
   "metadata": {},
   "outputs": [],
   "source": []
  },
  {
   "cell_type": "code",
   "execution_count": null,
   "id": "indie-psychiatry",
   "metadata": {},
   "outputs": [],
   "source": []
  },
  {
   "cell_type": "code",
   "execution_count": null,
   "id": "velvet-confidence",
   "metadata": {},
   "outputs": [],
   "source": []
  },
  {
   "cell_type": "code",
   "execution_count": null,
   "id": "endless-flashing",
   "metadata": {},
   "outputs": [],
   "source": []
  },
  {
   "cell_type": "code",
   "execution_count": null,
   "id": "becoming-visitor",
   "metadata": {},
   "outputs": [],
   "source": []
  },
  {
   "cell_type": "code",
   "execution_count": null,
   "id": "severe-shower",
   "metadata": {},
   "outputs": [],
   "source": []
  },
  {
   "cell_type": "code",
   "execution_count": null,
   "id": "reduced-excess",
   "metadata": {},
   "outputs": [],
   "source": []
  },
  {
   "cell_type": "code",
   "execution_count": null,
   "id": "distinguished-satisfaction",
   "metadata": {},
   "outputs": [],
   "source": []
  },
  {
   "cell_type": "code",
   "execution_count": null,
   "id": "careful-details",
   "metadata": {},
   "outputs": [],
   "source": []
  },
  {
   "cell_type": "code",
   "execution_count": null,
   "id": "invalid-talent",
   "metadata": {},
   "outputs": [],
   "source": []
  },
  {
   "cell_type": "code",
   "execution_count": null,
   "id": "private-cornell",
   "metadata": {},
   "outputs": [],
   "source": []
  },
  {
   "cell_type": "code",
   "execution_count": null,
   "id": "after-initial",
   "metadata": {},
   "outputs": [],
   "source": []
  },
  {
   "cell_type": "code",
   "execution_count": null,
   "id": "narrative-funds",
   "metadata": {},
   "outputs": [],
   "source": []
  },
  {
   "cell_type": "code",
   "execution_count": null,
   "id": "noticed-banana",
   "metadata": {},
   "outputs": [],
   "source": []
  },
  {
   "cell_type": "code",
   "execution_count": null,
   "id": "communist-extent",
   "metadata": {},
   "outputs": [],
   "source": []
  },
  {
   "cell_type": "code",
   "execution_count": null,
   "id": "native-campaign",
   "metadata": {},
   "outputs": [],
   "source": []
  },
  {
   "cell_type": "code",
   "execution_count": null,
   "id": "transsexual-aside",
   "metadata": {
    "collapsed": true
   },
   "outputs": [],
   "source": []
  }
 ],
 "metadata": {
  "kernelspec": {
   "display_name": "Python 3",
   "language": "python",
   "name": "python3"
  },
  "language_info": {
   "codemirror_mode": {
    "name": "ipython",
    "version": 3
   },
   "file_extension": ".py",
   "mimetype": "text/x-python",
   "name": "python",
   "nbconvert_exporter": "python",
   "pygments_lexer": "ipython3",
   "version": "3.7.9"
  }
 },
 "nbformat": 4,
 "nbformat_minor": 5
}
